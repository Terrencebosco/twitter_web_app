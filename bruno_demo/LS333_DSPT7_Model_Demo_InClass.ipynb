{
 "cells": [
  {
   "cell_type": "markdown",
   "metadata": {},
   "source": [
    "### DSPT6 - Adding Data Science to a Web Application\n",
    "\n",
    "The purpose of this notebook is to demonstrate:\n",
    "- Simple online analysis of data from a user of the Twitoff app or an API\n",
    "- Train a more complicated offline model, and serialize the results for online use"
   ]
  },
  {
   "cell_type": "code",
   "execution_count": 46,
   "metadata": {},
   "outputs": [],
   "source": [
    "import sqlite3\n",
    "import pickle\n",
    "import pandas as pd\n",
    "import numpy as np\n",
    "import sklearn\n",
    "import spacy \n",
    "from sklearn.model_selection import train_test_split\n",
    "from sklearn.metrics import classification_report\n",
    "from sklearn.linear_model import LogisticRegression"
   ]
  },
  {
   "cell_type": "code",
   "execution_count": 3,
   "metadata": {},
   "outputs": [],
   "source": [
    "# Connect to sqlite database\n",
    "conn = sqlite3.connect('/home/terrence/repos/lambda/twitter_web_app/bruno_demo/twitoff_demo.sqlite3')"
   ]
  },
  {
   "cell_type": "code",
   "execution_count": 5,
   "metadata": {
    "colab": {},
    "colab_type": "code",
    "id": "vS_A9hjG1HGD"
   },
   "outputs": [],
   "source": [
    "def get_data(query, conn):\n",
    "    '''Function to get data from SQLite DB'''\n",
    "    \n",
    "    cursor = conn.cursor()\n",
    "    result = cursor.execute(query).fetchall()\n",
    "\n",
    "    # Get columns from cursor object\n",
    "    columns = list(map(lambda x: x[0], cursor.description))\n",
    "\n",
    "    # Assign to DataFrame\n",
    "    df = pd.DataFrame(data=result, columns=columns)\n",
    "    return df"
   ]
  },
  {
   "cell_type": "code",
   "execution_count": 6,
   "metadata": {
    "colab": {},
    "colab_type": "code",
    "id": "pVapHGy7gEFx"
   },
   "outputs": [],
   "source": [
    "sql = '''\n",
    "SELECT\n",
    "tweet.tweet,\n",
    "tweet.embedding,\n",
    "tweet.user_id,\n",
    "user.username\n",
    "FROM tweet\n",
    "JOIN user\n",
    "ON tweet.user_id = user.Id;\n",
    "'''\n",
    "\n",
    "df = get_data(sql, conn)\n",
    "['decoded_embedding'] = df.embedding.apply(lambda x: pickle.loads(x))"
   ]
  },
  {
   "cell_type": "code",
   "execution_count": 23,
   "metadata": {},
   "outputs": [
    {
     "output_type": "execute_result",
     "data": {
      "text/plain": "                                               tweet  \\\n0  Worth a read, I liked this Economist article a...   \n1  Another interesting article, this one on a pro...   \n2  The Guardian has partnered with the foundation...   \n\n                                           embedding   user_id   username  \\\n0  b&#39;\\x80\\x04\\x95\\xee\\x11\\x00\\x00\\x00\\x00\\x00\\x00...  50393960  billgates   \n1  b&#39;\\x80\\x04\\x95\\xee\\x11\\x00\\x00\\x00\\x00\\x00\\x00...  50393960  billgates   \n2  b&#39;\\x80\\x04\\x95\\xee\\x11\\x00\\x00\\x00\\x00\\x00\\x00...  50393960  billgates   \n\n                                   decoded_embedding  \n0  [-0.07537176, 0.27606362, -0.0547825, 0.014415...  \n1  [-0.14114963, 0.17626844, -0.18227336, 0.10240...  \n2  [-0.002723366, 0.10334747, -0.100752264, 0.025...  ",
      "text/html": "<div>\n<style scoped>\n    .dataframe tbody tr th:only-of-type {\n        vertical-align: middle;\n    }\n\n    .dataframe tbody tr th {\n        vertical-align: top;\n    }\n\n    .dataframe thead th {\n        text-align: right;\n    }\n</style>\n<table border=\"1\" class=\"dataframe\">\n  <thead>\n    <tr style=\"text-align: right;\">\n      <th></th>\n      <th>tweet</th>\n      <th>embedding</th>\n      <th>user_id</th>\n      <th>username</th>\n      <th>decoded_embedding</th>\n    </tr>\n  </thead>\n  <tbody>\n    <tr>\n      <th>0</th>\n      <td>Worth a read, I liked this Economist article a...</td>\n      <td>b'\\x80\\x04\\x95\\xee\\x11\\x00\\x00\\x00\\x00\\x00\\x00...</td>\n      <td>50393960</td>\n      <td>billgates</td>\n      <td>[-0.07537176, 0.27606362, -0.0547825, 0.014415...</td>\n    </tr>\n    <tr>\n      <th>1</th>\n      <td>Another interesting article, this one on a pro...</td>\n      <td>b'\\x80\\x04\\x95\\xee\\x11\\x00\\x00\\x00\\x00\\x00\\x00...</td>\n      <td>50393960</td>\n      <td>billgates</td>\n      <td>[-0.14114963, 0.17626844, -0.18227336, 0.10240...</td>\n    </tr>\n    <tr>\n      <th>2</th>\n      <td>The Guardian has partnered with the foundation...</td>\n      <td>b'\\x80\\x04\\x95\\xee\\x11\\x00\\x00\\x00\\x00\\x00\\x00...</td>\n      <td>50393960</td>\n      <td>billgates</td>\n      <td>[-0.002723366, 0.10334747, -0.100752264, 0.025...</td>\n    </tr>\n  </tbody>\n</table>\n</div>"
     },
     "metadata": {},
     "execution_count": 23
    }
   ],
   "source": [
    "df.head(3)"
   ]
  },
  {
   "cell_type": "code",
   "execution_count": 21,
   "metadata": {},
   "outputs": [
    {
     "output_type": "execute_result",
     "data": {
      "text/plain": "billgates      2889\nbarackobama    2766\njimmyfallon    2353\nKingJames      2193\nnasa           1693\nelonmusk        397\nName: username, dtype: int64"
     },
     "metadata": {},
     "execution_count": 21
    }
   ],
   "source": [
    "df.username.value_counts()"
   ]
  },
  {
   "cell_type": "code",
   "execution_count": 31,
   "metadata": {
    "tags": []
   },
   "outputs": [
    {
     "output_type": "stream",
     "name": "stdout",
     "text": "(2766,) (5119,)\n"
    }
   ],
   "source": [
    "user1_embeddings = df.decoded_embedding[df.username=='barackobama']\n",
    "user2_embeddings = df.decoded_embedding[df.username=='jimmyfallon']\n",
    "\n",
    "embeddings_to_test = pd.concat([user1_embeddings,user2_embeddings])\n",
    "\n",
    "print(user1_embeddings.shape, embeddings_to_test.shape)"
   ]
  },
  {
   "cell_type": "code",
   "execution_count": 35,
   "metadata": {
    "tags": []
   },
   "outputs": [
    {
     "output_type": "stream",
     "name": "stdout",
     "text": "(5119, 300) (5119,)\n"
    }
   ],
   "source": [
    "embeddings_df = pd.DataFrame(embeddings_to_test.to_list(),\n",
    "                            columns=[f'dim{i}' for i in range(300)])\n",
    "labels = np.concatenate([np.ones(len(user1_embeddings)), np.zeros(len(user2_embeddings))])\n",
    "\n",
    "print(embeddings_df.shape, labels.shape)"
   ]
  },
  {
   "cell_type": "code",
   "execution_count": 40,
   "metadata": {
    "tags": []
   },
   "outputs": [
    {
     "output_type": "stream",
     "name": "stdout",
     "text": "(3839, 300) (1280, 300)\n"
    }
   ],
   "source": [
    "\n",
    "X_train, X_test, y_train, y_test = train_test_split(embeddings_df, labels, \n",
    "                                                    test_size=.25, random_state=42)\n",
    "print(X_train.shape, X_test.shape)"
   ]
  },
  {
   "cell_type": "code",
   "execution_count": 41,
   "metadata": {},
   "outputs": [
    {
     "output_type": "execute_result",
     "data": {
      "text/plain": "LogisticRegression(max_iter=1000)"
     },
     "metadata": {},
     "execution_count": 41
    }
   ],
   "source": [
    "model = LogisticRegression(max_iter=1000)\n",
    "\n",
    "model.fit(X_train, y_train)"
   ]
  },
  {
   "cell_type": "code",
   "execution_count": 44,
   "metadata": {
    "tags": []
   },
   "outputs": [
    {
     "output_type": "stream",
     "name": "stdout",
     "text": "              precision    recall  f1-score   support\n\n         0.0       0.95      0.95      0.95       564\n         1.0       0.96      0.96      0.96       716\n\n    accuracy                           0.95      1280\n   macro avg       0.95      0.95      0.95      1280\nweighted avg       0.95      0.95      0.95      1280\n\n"
    }
   ],
   "source": [
    "y_pred = model.predict(X_test)\n",
    "print(classification_report(y_test, y_pred))"
   ]
  },
  {
   "cell_type": "code",
   "execution_count": 49,
   "metadata": {},
   "outputs": [],
   "source": [
    "nlp = spacy.load('en_core_web_md', disable=['tagger', 'parser'])\n",
    "\n",
    "def vec_tweet(nlp, tweet_text):\n",
    "    return list(nlp(tweet_text).vector)"
   ]
  },
  {
   "cell_type": "code",
   "execution_count": 50,
   "metadata": {},
   "outputs": [],
   "source": [
    "new_embedding = vec_tweet(nlp, 'my next guest')"
   ]
  },
  {
   "cell_type": "code",
   "execution_count": 52,
   "metadata": {},
   "outputs": [
    {
     "output_type": "execute_result",
     "data": {
      "text/plain": "array([0.])"
     },
     "metadata": {},
     "execution_count": 52
    }
   ],
   "source": [
    "model.predict([new_embedding])"
   ]
  },
  {
   "cell_type": "code",
   "execution_count": 59,
   "metadata": {},
   "outputs": [],
   "source": [
    "pickle.dump(model, open(\"../models/model.pkl\", \"wb\"))"
   ]
  },
  {
   "cell_type": "code",
   "execution_count": null,
   "metadata": {},
   "outputs": [],
   "source": []
  },
  {
   "cell_type": "code",
   "execution_count": null,
   "metadata": {},
   "outputs": [],
   "source": []
  },
  {
   "cell_type": "code",
   "execution_count": null,
   "metadata": {},
   "outputs": [],
   "source": []
  },
  {
   "cell_type": "code",
   "execution_count": null,
   "metadata": {},
   "outputs": [],
   "source": []
  }
 ],
 "metadata": {
  "colab": {
   "collapsed_sections": [],
   "name": "DSPT6_APIs_Demo.ipynb",
   "provenance": []
  },
  "kernelspec": {
   "display_name": "Python 3",
   "language": "python",
   "name": "python3"
  },
  "language_info": {
   "codemirror_mode": {
    "name": "ipython",
    "version": 3
   },
   "file_extension": ".py",
   "mimetype": "text/x-python",
   "name": "python",
   "nbconvert_exporter": "python",
   "pygments_lexer": "ipython3",
   "version": "3.8.2-final"
  }
 },
 "nbformat": 4,
 "nbformat_minor": 4
}